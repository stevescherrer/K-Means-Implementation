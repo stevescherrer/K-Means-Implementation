{
 "cells": [
  {
   "cell_type": "markdown",
   "metadata": {},
   "source": [
    "Implementation of K-means algorthm \n",
    "\n",
    "NOTE: Contrary to what I previously thought, I don't believe convergence is an issue with this algorthm, however it is possible it can get stuck where a single point is at the harmonic center between two centroids in which case there would need to be some method to choose what centroid it should belong to (perhaps just arbitrarily picking it). "
   ]
  },
  {
   "cell_type": "code",
   "execution_count": 42,
   "metadata": {
    "ExecuteTime": {
     "end_time": "2020-11-20T22:24:51.084919Z",
     "start_time": "2020-11-20T22:24:51.082641Z"
    }
   },
   "outputs": [],
   "source": [
    "## Installing priniciple dependencies\n",
    "import random\n",
    "import numpy as np"
   ]
  },
  {
   "cell_type": "code",
   "execution_count": 1,
   "metadata": {
    "ExecuteTime": {
     "end_time": "2020-11-20T22:01:12.931662Z",
     "start_time": "2020-11-20T22:01:12.929071Z"
    }
   },
   "outputs": [],
   "source": [
    "## Make dummy data \n",
    "data = [[1,2], [50, 20], [10,6], [18,12]]"
   ]
  },
  {
   "cell_type": "code",
   "execution_count": 7,
   "metadata": {
    "ExecuteTime": {
     "end_time": "2020-11-20T22:05:01.499278Z",
     "start_time": "2020-11-20T22:05:01.494108Z"
    }
   },
   "outputs": [
    {
     "data": {
      "text/plain": [
       "70.69653456853455"
      ]
     },
     "execution_count": 7,
     "metadata": {},
     "output_type": "execute_result"
    }
   ],
   "source": [
    "def dist(pt1, pt2):\n",
    "    '''\n",
    "    Function to calculate eculidian distance between two points  \n",
    "    '''\n",
    "    return ((abs(pt1[0]**2 - pt2[0]**2) + abs(pt1[0]**2 - pt2[0]**2))**(1/2))\n",
    "\n",
    "# dist(data[0], data[1])"
   ]
  },
  {
   "cell_type": "code",
   "execution_count": 22,
   "metadata": {
    "ExecuteTime": {
     "end_time": "2020-11-20T22:14:22.594673Z",
     "start_time": "2020-11-20T22:14:22.590223Z"
    }
   },
   "outputs": [],
   "source": [
    "def initCentroid(data, n):\n",
    "    '''\n",
    "    Function to randomly initiate n clusters\n",
    "    '''\n",
    "    centroids = [[random.uniform(min([pt[0] for pt in data]), max([pt[0] for pt in data])), random.uniform(min([pt[1] for pt in data]), max([pt[1] for pt in data]))] for pt in range(n)]\n",
    "    return (centroids)\n",
    "\n",
    "# centroids = initCentroid(data, 2)"
   ]
  },
  {
   "cell_type": "code",
   "execution_count": 29,
   "metadata": {
    "ExecuteTime": {
     "end_time": "2020-11-20T22:19:18.374175Z",
     "start_time": "2020-11-20T22:19:18.370622Z"
    }
   },
   "outputs": [],
   "source": [
    "def assignClusters(data, centroids):\n",
    "    '''\n",
    "    Function to assign each datapoint to a cluster based on geometric distance to centroid location\n",
    "    '''\n",
    "    cluster_assignment = []\n",
    "    for datum in data:\n",
    "        centroid_dist = [dist(datum, centroid) for centroid in centroids]\n",
    "        cluster_assignment.append(centroid_dist.index(min(centroid_dist)))\n",
    "    return (cluster_assignment)\n",
    "\n",
    "# assigned_clusters = assignClusters(data, centroids)"
   ]
  },
  {
   "cell_type": "code",
   "execution_count": 51,
   "metadata": {
    "ExecuteTime": {
     "end_time": "2020-11-20T22:33:24.730997Z",
     "start_time": "2020-11-20T22:33:24.724663Z"
    }
   },
   "outputs": [
    {
     "data": {
      "text/plain": [
       "[[9.666666666666666, 6.666666666666667], [50.0, 20.0]]"
      ]
     },
     "execution_count": 51,
     "metadata": {},
     "output_type": "execute_result"
    }
   ],
   "source": [
    "def moveCentroids(data, assigned_clusters):\n",
    "    '''\n",
    "    Function move cluster centroid to mean of cluster members\n",
    "    '''\n",
    "    new_centroids = []\n",
    "    for cluster in set(assigned_clusters):\n",
    "        cluster_data = []\n",
    "        for i in range(len(data)):\n",
    "            if assigned_clusters[i] == cluster:\n",
    "                cluster_data.append(data[i])\n",
    "        new_centroids.append([np.mean([datum[0] for datum in cluster_data]), np.mean([datum[1] for datum in cluster_data])])\n",
    "        \n",
    "    return (new_centroids)\n",
    "        \n",
    "# moveCentroids(data, assigned_clusters)"
   ]
  },
  {
   "cell_type": "code",
   "execution_count": 62,
   "metadata": {
    "ExecuteTime": {
     "end_time": "2020-11-20T22:42:10.963571Z",
     "start_time": "2020-11-20T22:42:10.956648Z"
    },
    "scrolled": true
   },
   "outputs": [
    {
     "data": {
      "text/plain": [
       "[1, 0, 1, 1]"
      ]
     },
     "execution_count": 62,
     "metadata": {},
     "output_type": "execute_result"
    }
   ],
   "source": [
    "def kMeans(data, n, stop_iter = 10000):\n",
    "    '''\n",
    "    Function to cluster data building upon previous functinos\n",
    "    '''\n",
    "    ## initialize n centroids and perform initial assignments\n",
    "    centroids = initCentroid(data, n)\n",
    "    assigned_clusters = assignClusters(data, centroids)\n",
    "    ## Loop up to stop_iter times\n",
    "    counter = 0\n",
    "    while counter < stop_iter:\n",
    "        previous_centroids = centroids\n",
    "        centroids = moveCentroids(data, assigned_clusters)\n",
    "        ## check for stability in centroid locations \n",
    "        if centroids == previous_centroids:\n",
    "            break\n",
    "        ## If centroids are not stable, continue reassignment\n",
    "        else:\n",
    "            assigned_clusters = assignClusters(data, centroids)\n",
    "            counter += 1\n",
    "    ## Check if algorthm converged or not\n",
    "    if counter == stop_iter:\n",
    "        print('Warning: algorthm maxed out iterations without stabilizing')\n",
    "        return (assigned_clusters)\n",
    "    else:\n",
    "        return (assigned_clusters)\n",
    "\n",
    "kMeans(data, 2, 20)"
   ]
  },
  {
   "cell_type": "markdown",
   "metadata": {
    "ExecuteTime": {
     "end_time": "2020-11-20T22:38:20.188591Z",
     "start_time": "2020-11-20T22:38:20.186436Z"
    }
   },
   "source": [
    "### To do: \n",
    "What happens if a centroid is not assigned to a data point? \n",
    "    - Currently it is dropped due to set(assigned_clusters) call in moveCentroids function. \n",
    "    - Instead randomly reassign in another location? Alternatively, randomly assign centroids to a single datapoint instead of across entire data domain? "
   ]
  }
 ],
 "metadata": {
  "kernelspec": {
   "display_name": "Python 3",
   "language": "python",
   "name": "python3"
  },
  "language_info": {
   "codemirror_mode": {
    "name": "ipython",
    "version": 3
   },
   "file_extension": ".py",
   "mimetype": "text/x-python",
   "name": "python",
   "nbconvert_exporter": "python",
   "pygments_lexer": "ipython3",
   "version": "3.7.1"
  },
  "toc": {
   "base_numbering": 1,
   "nav_menu": {},
   "number_sections": true,
   "sideBar": true,
   "skip_h1_title": false,
   "title_cell": "Table of Contents",
   "title_sidebar": "Contents",
   "toc_cell": false,
   "toc_position": {},
   "toc_section_display": true,
   "toc_window_display": false
  },
  "varInspector": {
   "cols": {
    "lenName": 16,
    "lenType": 16,
    "lenVar": 40
   },
   "kernels_config": {
    "python": {
     "delete_cmd_postfix": "",
     "delete_cmd_prefix": "del ",
     "library": "var_list.py",
     "varRefreshCmd": "print(var_dic_list())"
    },
    "r": {
     "delete_cmd_postfix": ") ",
     "delete_cmd_prefix": "rm(",
     "library": "var_list.r",
     "varRefreshCmd": "cat(var_dic_list()) "
    }
   },
   "types_to_exclude": [
    "module",
    "function",
    "builtin_function_or_method",
    "instance",
    "_Feature"
   ],
   "window_display": false
  }
 },
 "nbformat": 4,
 "nbformat_minor": 2
}
